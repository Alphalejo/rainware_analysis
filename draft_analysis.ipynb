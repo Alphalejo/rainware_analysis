{
 "cells": [
  {
   "cell_type": "code",
   "execution_count": 157,
   "id": "2b9ebf10",
   "metadata": {},
   "outputs": [],
   "source": [
    "import pandas as pd\n",
    "import utils.toolbox as toolbox\n",
    "import seaborn as sns\n",
    "import matplotlib.pyplot as plt\n",
    "from sklearn.linear_model import LinearRegression\n",
    "from xgboost import XGBRegressor\n",
    "from sklearn.model_selection import train_test_split\n",
    "from sklearn.preprocessing import OneHotEncoder\n",
    "from sklearn.metrics import mean_absolute_error, mean_squared_error, r2_score\n",
    "import numpy as np\n",
    "import os\n",
    "from sqlalchemy import create_engine, text\n",
    "from dotenv import load_dotenv\n",
    "import psycopg2\n",
    "from joblib import dump\n",
    "\n"
   ]
  },
  {
   "cell_type": "markdown",
   "id": "21f966f0",
   "metadata": {},
   "source": [
    "# Extraccion de la Data"
   ]
  },
  {
   "cell_type": "code",
   "execution_count": 158,
   "id": "140d4e73",
   "metadata": {},
   "outputs": [
    {
     "data": {
      "application/vnd.microsoft.datawrangler.viewer.v0+json": {
       "columns": [
        {
         "name": "index",
         "rawType": "int64",
         "type": "integer"
        },
        {
         "name": "date",
         "rawType": "object",
         "type": "string"
        },
        {
         "name": "product_id",
         "rawType": "int64",
         "type": "integer"
        },
        {
         "name": "sales",
         "rawType": "int64",
         "type": "integer"
        },
        {
         "name": "price",
         "rawType": "float64",
         "type": "float"
        },
        {
         "name": "category",
         "rawType": "object",
         "type": "string"
        }
       ],
       "ref": "547cc196-f8d2-42ce-920b-7de1501336f4",
       "rows": [
        [
         "0",
         "7/14/2024",
         "1",
         "9",
         "49.96",
         "Mochilas impermeables"
        ],
        [
         "1",
         "2/11/2024",
         "2",
         "62",
         "96.06",
         "Overoles de lluvia"
        ],
        [
         "2",
         "6/16/2024",
         "3",
         "17",
         "78.56",
         "Sombreros impermeables"
        ],
        [
         "3",
         "3/13/2024",
         "4",
         "5",
         "67.89",
         "Conjuntos de lluvia infantiles"
        ],
        [
         "4",
         "9/11/2024",
         "3",
         "64",
         "78.56",
         "Sombreros impermeables"
        ],
        [
         "5",
         "7/27/2024",
         "5",
         "18",
         "32.48",
         "Guantes resistentes al agua"
        ],
        [
         "6",
         "9/1/2024",
         "6",
         "23",
         "32.48",
         "Ponchos de lluvia"
        ],
        [
         "7",
         "3/12/2024",
         "7",
         "49",
         "24.65",
         "Impermeables largos"
        ],
        [
         "8",
         "10/3/2024",
         "7",
         "77",
         "24.65",
         "Impermeables largos"
        ],
        [
         "9",
         "5/25/2024",
         "8",
         "75",
         "89.29",
         "Paraguas pequeños"
        ],
        [
         "10",
         "6/1/2024",
         "9",
         "25",
         "68.09",
         "Pantalones impermeables"
        ],
        [
         "11",
         "1/14/2024",
         "10",
         "16",
         "76.65",
         "Botas de lluvia"
        ],
        [
         "12",
         "9/19/2024",
         "7",
         "1",
         "24.65",
         "Impermeables largos"
        ],
        [
         "13",
         "2/20/2024",
         "11",
         "70",
         "21.65",
         "Paraguas plegables"
        ],
        [
         "14",
         "10/7/2024",
         "7",
         "28",
         "24.65",
         "Impermeables largos"
        ],
        [
         "15",
         "5/14/2024",
         "12",
         "94",
         "97.59",
         "Zapatos impermeables urbanos"
        ],
        [
         "16",
         "11/22/2024",
         "7",
         "57",
         "24.65",
         "Impermeables largos"
        ],
        [
         "17",
         "9/12/2024",
         "13",
         "63",
         "86.6",
         "Paraguas automáticos"
        ],
        [
         "18",
         "1/16/2024",
         "14",
         "21",
         "36.99",
         "Leggings repelentes"
        ],
        [
         "19",
         "11/15/2024",
         "15",
         "63",
         "34.55",
         "Fundas para mochilas"
        ],
        [
         "20",
         "10/6/2024",
         "16",
         "76",
         "34.67",
         "Bolsos repelentes"
        ],
        [
         "21",
         "1/18/2024",
         "8",
         "83",
         "89.29",
         "Paraguas pequeños"
        ],
        [
         "22",
         "12/25/2024",
         "5",
         "73",
         "32.48",
         "Guantes resistentes al agua"
        ],
        [
         "23",
         "9/4/2024",
         "5",
         "75",
         "32.48",
         "Guantes resistentes al agua"
        ],
        [
         "24",
         "3/29/2024",
         "7",
         "76",
         "24.65",
         "Impermeables largos"
        ],
        [
         "25",
         "12/6/2024",
         "15",
         "93",
         "34.55",
         "Fundas para mochilas"
        ],
        [
         "26",
         "8/24/2024",
         "8",
         "33",
         "89.29",
         "Paraguas pequeños"
        ],
        [
         "27",
         "3/2/2024",
         "17",
         "25",
         "44.34",
         "Abrigos con capucha"
        ],
        [
         "28",
         "6/26/2024",
         "9",
         "74",
         "68.09",
         "Pantalones impermeables"
        ],
        [
         "29",
         "8/23/2024",
         "13",
         "59",
         "86.6",
         "Paraguas automáticos"
        ],
        [
         "30",
         "4/14/2024",
         "2",
         "85",
         "96.06",
         "Overoles de lluvia"
        ],
        [
         "31",
         "12/8/2024",
         "14",
         "77",
         "36.99",
         "Leggings repelentes"
        ],
        [
         "32",
         "4/18/2024",
         "18",
         "20",
         "61.98",
         "Cubrezapatos de silicona"
        ],
        [
         "33",
         "12/15/2024",
         "3",
         "66",
         "78.56",
         "Sombreros impermeables"
        ],
        [
         "34",
         "2/11/2024",
         "19",
         "16",
         "54.56",
         "Fundas para cochecitos"
        ],
        [
         "35",
         "3/26/2024",
         "20",
         "78",
         "43.3",
         "Bufandas sintéticas"
        ],
        [
         "36",
         "6/17/2024",
         "8",
         "40",
         "89.29",
         "Paraguas pequeños"
        ],
        [
         "37",
         "6/13/2024",
         "3",
         "20",
         "78.56",
         "Sombreros impermeables"
        ],
        [
         "38",
         "6/18/2024",
         "11",
         "77",
         "21.65",
         "Paraguas plegables"
        ],
        [
         "39",
         "5/26/2024",
         "13",
         "60",
         "86.6",
         "Paraguas automáticos"
        ],
        [
         "40",
         "12/26/2024",
         "21",
         "64",
         "68.95",
         "Botas infantiles"
        ],
        [
         "41",
         "1/30/2024",
         "3",
         "32",
         "78.56",
         "Sombreros impermeables"
        ],
        [
         "42",
         "3/27/2024",
         "13",
         "34",
         "86.6",
         "Paraguas automáticos"
        ],
        [
         "43",
         "2/5/2024",
         "7",
         "53",
         "24.65",
         "Impermeables largos"
        ],
        [
         "44",
         "3/3/2024",
         "1",
         "42",
         "49.96",
         "Mochilas impermeables"
        ],
        [
         "45",
         "3/16/2024",
         "9",
         "53",
         "68.09",
         "Pantalones impermeables"
        ],
        [
         "46",
         "1/21/2024",
         "22",
         "81",
         "31.16",
         "Gorras repelentes"
        ],
        [
         "47",
         "5/11/2024",
         "11",
         "42",
         "21.65",
         "Paraguas plegables"
        ],
        [
         "48",
         "5/3/2024",
         "11",
         "67",
         "21.65",
         "Paraguas plegables"
        ],
        [
         "49",
         "10/24/2024",
         "9",
         "92",
         "68.09",
         "Pantalones impermeables"
        ]
       ],
       "shape": {
        "columns": 5,
        "rows": 1000
       }
      },
      "text/html": [
       "<div>\n",
       "<style scoped>\n",
       "    .dataframe tbody tr th:only-of-type {\n",
       "        vertical-align: middle;\n",
       "    }\n",
       "\n",
       "    .dataframe tbody tr th {\n",
       "        vertical-align: top;\n",
       "    }\n",
       "\n",
       "    .dataframe thead th {\n",
       "        text-align: right;\n",
       "    }\n",
       "</style>\n",
       "<table border=\"1\" class=\"dataframe\">\n",
       "  <thead>\n",
       "    <tr style=\"text-align: right;\">\n",
       "      <th></th>\n",
       "      <th>date</th>\n",
       "      <th>product_id</th>\n",
       "      <th>sales</th>\n",
       "      <th>price</th>\n",
       "      <th>category</th>\n",
       "    </tr>\n",
       "  </thead>\n",
       "  <tbody>\n",
       "    <tr>\n",
       "      <th>0</th>\n",
       "      <td>7/14/2024</td>\n",
       "      <td>1</td>\n",
       "      <td>9</td>\n",
       "      <td>49.96</td>\n",
       "      <td>Mochilas impermeables</td>\n",
       "    </tr>\n",
       "    <tr>\n",
       "      <th>1</th>\n",
       "      <td>2/11/2024</td>\n",
       "      <td>2</td>\n",
       "      <td>62</td>\n",
       "      <td>96.06</td>\n",
       "      <td>Overoles de lluvia</td>\n",
       "    </tr>\n",
       "    <tr>\n",
       "      <th>2</th>\n",
       "      <td>6/16/2024</td>\n",
       "      <td>3</td>\n",
       "      <td>17</td>\n",
       "      <td>78.56</td>\n",
       "      <td>Sombreros impermeables</td>\n",
       "    </tr>\n",
       "    <tr>\n",
       "      <th>3</th>\n",
       "      <td>3/13/2024</td>\n",
       "      <td>4</td>\n",
       "      <td>5</td>\n",
       "      <td>67.89</td>\n",
       "      <td>Conjuntos de lluvia infantiles</td>\n",
       "    </tr>\n",
       "    <tr>\n",
       "      <th>4</th>\n",
       "      <td>9/11/2024</td>\n",
       "      <td>3</td>\n",
       "      <td>64</td>\n",
       "      <td>78.56</td>\n",
       "      <td>Sombreros impermeables</td>\n",
       "    </tr>\n",
       "    <tr>\n",
       "      <th>...</th>\n",
       "      <td>...</td>\n",
       "      <td>...</td>\n",
       "      <td>...</td>\n",
       "      <td>...</td>\n",
       "      <td>...</td>\n",
       "    </tr>\n",
       "    <tr>\n",
       "      <th>995</th>\n",
       "      <td>11/28/2024</td>\n",
       "      <td>6</td>\n",
       "      <td>65</td>\n",
       "      <td>32.48</td>\n",
       "      <td>Ponchos de lluvia</td>\n",
       "    </tr>\n",
       "    <tr>\n",
       "      <th>996</th>\n",
       "      <td>12/23/2024</td>\n",
       "      <td>1</td>\n",
       "      <td>27</td>\n",
       "      <td>49.96</td>\n",
       "      <td>Mochilas impermeables</td>\n",
       "    </tr>\n",
       "    <tr>\n",
       "      <th>997</th>\n",
       "      <td>5/3/2024</td>\n",
       "      <td>13</td>\n",
       "      <td>6</td>\n",
       "      <td>86.60</td>\n",
       "      <td>Paraguas automáticos</td>\n",
       "    </tr>\n",
       "    <tr>\n",
       "      <th>998</th>\n",
       "      <td>7/8/2024</td>\n",
       "      <td>8</td>\n",
       "      <td>73</td>\n",
       "      <td>89.29</td>\n",
       "      <td>Paraguas pequeños</td>\n",
       "    </tr>\n",
       "    <tr>\n",
       "      <th>999</th>\n",
       "      <td>12/3/2024</td>\n",
       "      <td>13</td>\n",
       "      <td>50</td>\n",
       "      <td>86.60</td>\n",
       "      <td>Paraguas automáticos</td>\n",
       "    </tr>\n",
       "  </tbody>\n",
       "</table>\n",
       "<p>1000 rows × 5 columns</p>\n",
       "</div>"
      ],
      "text/plain": [
       "           date  product_id  sales  price                        category\n",
       "0     7/14/2024           1      9  49.96           Mochilas impermeables\n",
       "1     2/11/2024           2     62  96.06              Overoles de lluvia\n",
       "2     6/16/2024           3     17  78.56          Sombreros impermeables\n",
       "3     3/13/2024           4      5  67.89  Conjuntos de lluvia infantiles\n",
       "4     9/11/2024           3     64  78.56          Sombreros impermeables\n",
       "..          ...         ...    ...    ...                             ...\n",
       "995  11/28/2024           6     65  32.48               Ponchos de lluvia\n",
       "996  12/23/2024           1     27  49.96           Mochilas impermeables\n",
       "997    5/3/2024          13      6  86.60            Paraguas automáticos\n",
       "998    7/8/2024           8     73  89.29               Paraguas pequeños\n",
       "999   12/3/2024          13     50  86.60            Paraguas automáticos\n",
       "\n",
       "[1000 rows x 5 columns]"
      ]
     },
     "execution_count": 158,
     "metadata": {},
     "output_type": "execute_result"
    }
   ],
   "source": [
    "# Leer CSV de ventas\n",
    "df_sales = pd.read_csv(\"./data/sales.csv\")\n",
    "df_sales"
   ]
  },
  {
   "cell_type": "code",
   "execution_count": 159,
   "id": "160dc432",
   "metadata": {},
   "outputs": [
    {
     "data": {
      "text/plain": [
       "dict_keys(['time', 'temperature_2m_max', 'temperature_2m_min', 'precipitation_sum'])"
      ]
     },
     "execution_count": 159,
     "metadata": {},
     "output_type": "execute_result"
    }
   ],
   "source": [
    "# Llamamos la toolbox de Open-Meteo para obtener los datos de las temperaturas diarias\n",
    "temperatures = toolbox.get_data()\n",
    "temperatures.keys()"
   ]
  },
  {
   "cell_type": "code",
   "execution_count": 160,
   "id": "0c2bbf7e",
   "metadata": {},
   "outputs": [
    {
     "data": {
      "application/vnd.microsoft.datawrangler.viewer.v0+json": {
       "columns": [
        {
         "name": "index",
         "rawType": "int64",
         "type": "integer"
        },
        {
         "name": "date",
         "rawType": "datetime64[ns]",
         "type": "datetime"
        },
        {
         "name": "temp_max",
         "rawType": "float64",
         "type": "float"
        },
        {
         "name": "temp_min",
         "rawType": "float64",
         "type": "float"
        }
       ],
       "ref": "15c028bd-6f07-454f-9715-b9b12d5aaaa2",
       "rows": [
        [
         "0",
         "2024-01-01 00:00:00",
         "19.4",
         "11.6"
        ],
        [
         "1",
         "2024-01-02 00:00:00",
         "19.4",
         "9.7"
        ],
        [
         "2",
         "2024-01-03 00:00:00",
         "19.5",
         "11.6"
        ],
        [
         "3",
         "2024-01-04 00:00:00",
         "19.1",
         "8.9"
        ],
        [
         "4",
         "2024-01-05 00:00:00",
         "19.6",
         "10.5"
        ]
       ],
       "shape": {
        "columns": 3,
        "rows": 5
       }
      },
      "text/html": [
       "<div>\n",
       "<style scoped>\n",
       "    .dataframe tbody tr th:only-of-type {\n",
       "        vertical-align: middle;\n",
       "    }\n",
       "\n",
       "    .dataframe tbody tr th {\n",
       "        vertical-align: top;\n",
       "    }\n",
       "\n",
       "    .dataframe thead th {\n",
       "        text-align: right;\n",
       "    }\n",
       "</style>\n",
       "<table border=\"1\" class=\"dataframe\">\n",
       "  <thead>\n",
       "    <tr style=\"text-align: right;\">\n",
       "      <th></th>\n",
       "      <th>date</th>\n",
       "      <th>temp_max</th>\n",
       "      <th>temp_min</th>\n",
       "    </tr>\n",
       "  </thead>\n",
       "  <tbody>\n",
       "    <tr>\n",
       "      <th>0</th>\n",
       "      <td>2024-01-01</td>\n",
       "      <td>19.4</td>\n",
       "      <td>11.6</td>\n",
       "    </tr>\n",
       "    <tr>\n",
       "      <th>1</th>\n",
       "      <td>2024-01-02</td>\n",
       "      <td>19.4</td>\n",
       "      <td>9.7</td>\n",
       "    </tr>\n",
       "    <tr>\n",
       "      <th>2</th>\n",
       "      <td>2024-01-03</td>\n",
       "      <td>19.5</td>\n",
       "      <td>11.6</td>\n",
       "    </tr>\n",
       "    <tr>\n",
       "      <th>3</th>\n",
       "      <td>2024-01-04</td>\n",
       "      <td>19.1</td>\n",
       "      <td>8.9</td>\n",
       "    </tr>\n",
       "    <tr>\n",
       "      <th>4</th>\n",
       "      <td>2024-01-05</td>\n",
       "      <td>19.6</td>\n",
       "      <td>10.5</td>\n",
       "    </tr>\n",
       "  </tbody>\n",
       "</table>\n",
       "</div>"
      ],
      "text/plain": [
       "        date  temp_max  temp_min\n",
       "0 2024-01-01      19.4      11.6\n",
       "1 2024-01-02      19.4       9.7\n",
       "2 2024-01-03      19.5      11.6\n",
       "3 2024-01-04      19.1       8.9\n",
       "4 2024-01-05      19.6      10.5"
      ]
     },
     "execution_count": 160,
     "metadata": {},
     "output_type": "execute_result"
    }
   ],
   "source": [
    "# Convirtiendo la data en un dataframe\n",
    "df_weather= pd.DataFrame({\n",
    "    \"date\": pd.to_datetime(temperatures[\"time\"]),\n",
    "    \"temp_max\": temperatures[\"temperature_2m_max\"],\n",
    "    \"temp_min\": temperatures[\"temperature_2m_min\"]\n",
    "})\n",
    "df_weather.head()"
   ]
  },
  {
   "cell_type": "code",
   "execution_count": 161,
   "id": "7ce8fcdf",
   "metadata": {},
   "outputs": [
    {
     "data": {
      "application/vnd.microsoft.datawrangler.viewer.v0+json": {
       "columns": [
        {
         "name": "index",
         "rawType": "int64",
         "type": "integer"
        },
        {
         "name": "date",
         "rawType": "datetime64[ns]",
         "type": "datetime"
        },
        {
         "name": "temp_max",
         "rawType": "float64",
         "type": "float"
        },
        {
         "name": "temp_min",
         "rawType": "float64",
         "type": "float"
        },
        {
         "name": "temperature",
         "rawType": "float64",
         "type": "float"
        }
       ],
       "ref": "84b147fb-12d7-4497-b5ae-06aac7868d96",
       "rows": [
        [
         "0",
         "2024-01-01 00:00:00",
         "19.4",
         "11.6",
         "15.5"
        ],
        [
         "1",
         "2024-01-02 00:00:00",
         "19.4",
         "9.7",
         "14.6"
        ],
        [
         "2",
         "2024-01-03 00:00:00",
         "19.5",
         "11.6",
         "15.6"
        ],
        [
         "3",
         "2024-01-04 00:00:00",
         "19.1",
         "8.9",
         "14.0"
        ],
        [
         "4",
         "2024-01-05 00:00:00",
         "19.6",
         "10.5",
         "15.0"
        ]
       ],
       "shape": {
        "columns": 4,
        "rows": 5
       }
      },
      "text/html": [
       "<div>\n",
       "<style scoped>\n",
       "    .dataframe tbody tr th:only-of-type {\n",
       "        vertical-align: middle;\n",
       "    }\n",
       "\n",
       "    .dataframe tbody tr th {\n",
       "        vertical-align: top;\n",
       "    }\n",
       "\n",
       "    .dataframe thead th {\n",
       "        text-align: right;\n",
       "    }\n",
       "</style>\n",
       "<table border=\"1\" class=\"dataframe\">\n",
       "  <thead>\n",
       "    <tr style=\"text-align: right;\">\n",
       "      <th></th>\n",
       "      <th>date</th>\n",
       "      <th>temp_max</th>\n",
       "      <th>temp_min</th>\n",
       "      <th>temperature</th>\n",
       "    </tr>\n",
       "  </thead>\n",
       "  <tbody>\n",
       "    <tr>\n",
       "      <th>0</th>\n",
       "      <td>2024-01-01</td>\n",
       "      <td>19.4</td>\n",
       "      <td>11.6</td>\n",
       "      <td>15.5</td>\n",
       "    </tr>\n",
       "    <tr>\n",
       "      <th>1</th>\n",
       "      <td>2024-01-02</td>\n",
       "      <td>19.4</td>\n",
       "      <td>9.7</td>\n",
       "      <td>14.6</td>\n",
       "    </tr>\n",
       "    <tr>\n",
       "      <th>2</th>\n",
       "      <td>2024-01-03</td>\n",
       "      <td>19.5</td>\n",
       "      <td>11.6</td>\n",
       "      <td>15.6</td>\n",
       "    </tr>\n",
       "    <tr>\n",
       "      <th>3</th>\n",
       "      <td>2024-01-04</td>\n",
       "      <td>19.1</td>\n",
       "      <td>8.9</td>\n",
       "      <td>14.0</td>\n",
       "    </tr>\n",
       "    <tr>\n",
       "      <th>4</th>\n",
       "      <td>2024-01-05</td>\n",
       "      <td>19.6</td>\n",
       "      <td>10.5</td>\n",
       "      <td>15.0</td>\n",
       "    </tr>\n",
       "  </tbody>\n",
       "</table>\n",
       "</div>"
      ],
      "text/plain": [
       "        date  temp_max  temp_min  temperature\n",
       "0 2024-01-01      19.4      11.6         15.5\n",
       "1 2024-01-02      19.4       9.7         14.6\n",
       "2 2024-01-03      19.5      11.6         15.6\n",
       "3 2024-01-04      19.1       8.9         14.0\n",
       "4 2024-01-05      19.6      10.5         15.0"
      ]
     },
     "execution_count": 161,
     "metadata": {},
     "output_type": "execute_result"
    }
   ],
   "source": [
    "# Creando una columna para la temperatura promedio del dia\n",
    "df_weather[\"temperature\"] = ((df_weather[\"temp_max\"] + df_weather[\"temp_min\"]) / 2).round(1)\n",
    "df_weather.head()"
   ]
  },
  {
   "cell_type": "markdown",
   "id": "b6502d92",
   "metadata": {},
   "source": [
    "# Union de Dataframes"
   ]
  },
  {
   "cell_type": "code",
   "execution_count": 162,
   "id": "5863ae67",
   "metadata": {},
   "outputs": [
    {
     "data": {
      "application/vnd.microsoft.datawrangler.viewer.v0+json": {
       "columns": [
        {
         "name": "index",
         "rawType": "object",
         "type": "string"
        },
        {
         "name": "0",
         "rawType": "object",
         "type": "unknown"
        }
       ],
       "ref": "e38fc367-eb3c-46ab-bb44-d38f1e8747ca",
       "rows": [
        [
         "date",
         "object"
        ],
        [
         "product_id",
         "int64"
        ],
        [
         "sales",
         "int64"
        ],
        [
         "price",
         "float64"
        ],
        [
         "category",
         "object"
        ]
       ],
       "shape": {
        "columns": 1,
        "rows": 5
       }
      },
      "text/plain": [
       "date           object\n",
       "product_id      int64\n",
       "sales           int64\n",
       "price         float64\n",
       "category       object\n",
       "dtype: object"
      ]
     },
     "execution_count": 162,
     "metadata": {},
     "output_type": "execute_result"
    }
   ],
   "source": [
    "df_sales.dtypes"
   ]
  },
  {
   "cell_type": "code",
   "execution_count": 163,
   "id": "ed1cb5aa",
   "metadata": {},
   "outputs": [],
   "source": [
    "# Convirtiendo la columna date en tipo datetime\n",
    "df_sales[\"date\"] = pd.to_datetime(df_sales[\"date\"])\n",
    "df_weather[\"date\"] = pd.to_datetime(df_weather[\"date\"])\n",
    "\n",
    "# Formateando la fecha en df_weather\n",
    "df_weather[\"date\"] = df_weather[\"date\"].dt.strftime(\"%m/%d/%Y\")\n",
    "df_weather[\"date\"] = pd.to_datetime(df_weather[\"date\"])\n"
   ]
  },
  {
   "cell_type": "code",
   "execution_count": 164,
   "id": "d1f72f25",
   "metadata": {},
   "outputs": [
    {
     "data": {
      "application/vnd.microsoft.datawrangler.viewer.v0+json": {
       "columns": [
        {
         "name": "index",
         "rawType": "object",
         "type": "string"
        },
        {
         "name": "0",
         "rawType": "object",
         "type": "unknown"
        }
       ],
       "ref": "8fb959ee-c57c-41b7-8f46-a52e021ce78b",
       "rows": [
        [
         "date",
         "datetime64[ns]"
        ],
        [
         "temp_max",
         "float64"
        ],
        [
         "temp_min",
         "float64"
        ],
        [
         "temperature",
         "float64"
        ]
       ],
       "shape": {
        "columns": 1,
        "rows": 4
       }
      },
      "text/plain": [
       "date           datetime64[ns]\n",
       "temp_max              float64\n",
       "temp_min              float64\n",
       "temperature           float64\n",
       "dtype: object"
      ]
     },
     "execution_count": 164,
     "metadata": {},
     "output_type": "execute_result"
    }
   ],
   "source": [
    "df_weather.dtypes"
   ]
  },
  {
   "cell_type": "code",
   "execution_count": 165,
   "id": "19f2baf6",
   "metadata": {},
   "outputs": [
    {
     "data": {
      "application/vnd.microsoft.datawrangler.viewer.v0+json": {
       "columns": [
        {
         "name": "index",
         "rawType": "int64",
         "type": "integer"
        },
        {
         "name": "date",
         "rawType": "datetime64[ns]",
         "type": "datetime"
        },
        {
         "name": "product_id",
         "rawType": "int64",
         "type": "integer"
        },
        {
         "name": "sales",
         "rawType": "int64",
         "type": "integer"
        },
        {
         "name": "price",
         "rawType": "float64",
         "type": "float"
        },
        {
         "name": "category",
         "rawType": "object",
         "type": "string"
        },
        {
         "name": "temperature",
         "rawType": "float64",
         "type": "float"
        }
       ],
       "ref": "76d9b909-e363-4671-a9eb-b3e0875b2b6b",
       "rows": [
        [
         "0",
         "2024-07-14 00:00:00",
         "1",
         "9",
         "49.96",
         "Mochilas impermeables",
         "14.2"
        ],
        [
         "1",
         "2024-02-11 00:00:00",
         "2",
         "62",
         "96.06",
         "Overoles de lluvia",
         "15.6"
        ],
        [
         "2",
         "2024-06-16 00:00:00",
         "3",
         "17",
         "78.56",
         "Sombreros impermeables",
         "13.6"
        ],
        [
         "3",
         "2024-03-13 00:00:00",
         "4",
         "5",
         "67.89",
         "Conjuntos de lluvia infantiles",
         "15.8"
        ],
        [
         "4",
         "2024-09-11 00:00:00",
         "3",
         "64",
         "78.56",
         "Sombreros impermeables",
         "14.6"
        ]
       ],
       "shape": {
        "columns": 6,
        "rows": 5
       }
      },
      "text/html": [
       "<div>\n",
       "<style scoped>\n",
       "    .dataframe tbody tr th:only-of-type {\n",
       "        vertical-align: middle;\n",
       "    }\n",
       "\n",
       "    .dataframe tbody tr th {\n",
       "        vertical-align: top;\n",
       "    }\n",
       "\n",
       "    .dataframe thead th {\n",
       "        text-align: right;\n",
       "    }\n",
       "</style>\n",
       "<table border=\"1\" class=\"dataframe\">\n",
       "  <thead>\n",
       "    <tr style=\"text-align: right;\">\n",
       "      <th></th>\n",
       "      <th>date</th>\n",
       "      <th>product_id</th>\n",
       "      <th>sales</th>\n",
       "      <th>price</th>\n",
       "      <th>category</th>\n",
       "      <th>temperature</th>\n",
       "    </tr>\n",
       "  </thead>\n",
       "  <tbody>\n",
       "    <tr>\n",
       "      <th>0</th>\n",
       "      <td>2024-07-14</td>\n",
       "      <td>1</td>\n",
       "      <td>9</td>\n",
       "      <td>49.96</td>\n",
       "      <td>Mochilas impermeables</td>\n",
       "      <td>14.2</td>\n",
       "    </tr>\n",
       "    <tr>\n",
       "      <th>1</th>\n",
       "      <td>2024-02-11</td>\n",
       "      <td>2</td>\n",
       "      <td>62</td>\n",
       "      <td>96.06</td>\n",
       "      <td>Overoles de lluvia</td>\n",
       "      <td>15.6</td>\n",
       "    </tr>\n",
       "    <tr>\n",
       "      <th>2</th>\n",
       "      <td>2024-06-16</td>\n",
       "      <td>3</td>\n",
       "      <td>17</td>\n",
       "      <td>78.56</td>\n",
       "      <td>Sombreros impermeables</td>\n",
       "      <td>13.6</td>\n",
       "    </tr>\n",
       "    <tr>\n",
       "      <th>3</th>\n",
       "      <td>2024-03-13</td>\n",
       "      <td>4</td>\n",
       "      <td>5</td>\n",
       "      <td>67.89</td>\n",
       "      <td>Conjuntos de lluvia infantiles</td>\n",
       "      <td>15.8</td>\n",
       "    </tr>\n",
       "    <tr>\n",
       "      <th>4</th>\n",
       "      <td>2024-09-11</td>\n",
       "      <td>3</td>\n",
       "      <td>64</td>\n",
       "      <td>78.56</td>\n",
       "      <td>Sombreros impermeables</td>\n",
       "      <td>14.6</td>\n",
       "    </tr>\n",
       "  </tbody>\n",
       "</table>\n",
       "</div>"
      ],
      "text/plain": [
       "        date  product_id  sales  price                        category  \\\n",
       "0 2024-07-14           1      9  49.96           Mochilas impermeables   \n",
       "1 2024-02-11           2     62  96.06              Overoles de lluvia   \n",
       "2 2024-06-16           3     17  78.56          Sombreros impermeables   \n",
       "3 2024-03-13           4      5  67.89  Conjuntos de lluvia infantiles   \n",
       "4 2024-09-11           3     64  78.56          Sombreros impermeables   \n",
       "\n",
       "   temperature  \n",
       "0         14.2  \n",
       "1         15.6  \n",
       "2         13.6  \n",
       "3         15.8  \n",
       "4         14.6  "
      ]
     },
     "execution_count": 165,
     "metadata": {},
     "output_type": "execute_result"
    }
   ],
   "source": [
    "# Unir ventas + clima\n",
    "df_final = pd.merge(df_sales, df_weather[[\"date\", \"temperature\"]], on=\"date\", how=\"left\")\n",
    "df_final.head()"
   ]
  },
  {
   "cell_type": "markdown",
   "id": "3ff1af4a",
   "metadata": {},
   "source": [
    "# Limpieza de datos"
   ]
  },
  {
   "cell_type": "code",
   "execution_count": 166,
   "id": "346302fc",
   "metadata": {},
   "outputs": [
    {
     "data": {
      "application/vnd.microsoft.datawrangler.viewer.v0+json": {
       "columns": [
        {
         "name": "index",
         "rawType": "object",
         "type": "string"
        },
        {
         "name": "date",
         "rawType": "object",
         "type": "unknown"
        },
        {
         "name": "product_id",
         "rawType": "float64",
         "type": "float"
        },
        {
         "name": "sales",
         "rawType": "float64",
         "type": "float"
        },
        {
         "name": "price",
         "rawType": "float64",
         "type": "float"
        },
        {
         "name": "temperature",
         "rawType": "float64",
         "type": "float"
        }
       ],
       "ref": "bf159e81-4365-4dbe-a1ce-b74a8e2b71a7",
       "rows": [
        [
         "count",
         "1000",
         "1000.0",
         "1000.0",
         "1000.0",
         "1000.0"
        ],
        [
         "mean",
         "2024-06-28 02:22:33.600000",
         "12.694",
         "51.786",
         "56.28399",
         "14.8193"
        ],
        [
         "min",
         "2024-01-01 00:00:00",
         "1.0",
         "1.0",
         "21.65",
         "12.6"
        ],
        [
         "25%",
         "2024-03-28 00:00:00",
         "7.0",
         "27.0",
         "34.67",
         "14.2"
        ],
        [
         "50%",
         "2024-06-25 00:00:00",
         "12.0",
         "53.0",
         "52.260000000000005",
         "14.8"
        ],
        [
         "75%",
         "2024-09-29 00:00:00",
         "19.0",
         "76.0",
         "76.65",
         "15.4"
        ],
        [
         "max",
         "2024-12-30 00:00:00",
         "25.0",
         "100.0",
         "97.59",
         "17.7"
        ],
        [
         "std",
         null,
         "7.108226986449637",
         "29.092758421858054",
         "23.05845785082685",
         "0.9031019339493761"
        ]
       ],
       "shape": {
        "columns": 5,
        "rows": 8
       }
      },
      "text/html": [
       "<div>\n",
       "<style scoped>\n",
       "    .dataframe tbody tr th:only-of-type {\n",
       "        vertical-align: middle;\n",
       "    }\n",
       "\n",
       "    .dataframe tbody tr th {\n",
       "        vertical-align: top;\n",
       "    }\n",
       "\n",
       "    .dataframe thead th {\n",
       "        text-align: right;\n",
       "    }\n",
       "</style>\n",
       "<table border=\"1\" class=\"dataframe\">\n",
       "  <thead>\n",
       "    <tr style=\"text-align: right;\">\n",
       "      <th></th>\n",
       "      <th>date</th>\n",
       "      <th>product_id</th>\n",
       "      <th>sales</th>\n",
       "      <th>price</th>\n",
       "      <th>temperature</th>\n",
       "    </tr>\n",
       "  </thead>\n",
       "  <tbody>\n",
       "    <tr>\n",
       "      <th>count</th>\n",
       "      <td>1000</td>\n",
       "      <td>1000.000000</td>\n",
       "      <td>1000.000000</td>\n",
       "      <td>1000.000000</td>\n",
       "      <td>1000.000000</td>\n",
       "    </tr>\n",
       "    <tr>\n",
       "      <th>mean</th>\n",
       "      <td>2024-06-28 02:22:33.600000</td>\n",
       "      <td>12.694000</td>\n",
       "      <td>51.786000</td>\n",
       "      <td>56.283990</td>\n",
       "      <td>14.819300</td>\n",
       "    </tr>\n",
       "    <tr>\n",
       "      <th>min</th>\n",
       "      <td>2024-01-01 00:00:00</td>\n",
       "      <td>1.000000</td>\n",
       "      <td>1.000000</td>\n",
       "      <td>21.650000</td>\n",
       "      <td>12.600000</td>\n",
       "    </tr>\n",
       "    <tr>\n",
       "      <th>25%</th>\n",
       "      <td>2024-03-28 00:00:00</td>\n",
       "      <td>7.000000</td>\n",
       "      <td>27.000000</td>\n",
       "      <td>34.670000</td>\n",
       "      <td>14.200000</td>\n",
       "    </tr>\n",
       "    <tr>\n",
       "      <th>50%</th>\n",
       "      <td>2024-06-25 00:00:00</td>\n",
       "      <td>12.000000</td>\n",
       "      <td>53.000000</td>\n",
       "      <td>52.260000</td>\n",
       "      <td>14.800000</td>\n",
       "    </tr>\n",
       "    <tr>\n",
       "      <th>75%</th>\n",
       "      <td>2024-09-29 00:00:00</td>\n",
       "      <td>19.000000</td>\n",
       "      <td>76.000000</td>\n",
       "      <td>76.650000</td>\n",
       "      <td>15.400000</td>\n",
       "    </tr>\n",
       "    <tr>\n",
       "      <th>max</th>\n",
       "      <td>2024-12-30 00:00:00</td>\n",
       "      <td>25.000000</td>\n",
       "      <td>100.000000</td>\n",
       "      <td>97.590000</td>\n",
       "      <td>17.700000</td>\n",
       "    </tr>\n",
       "    <tr>\n",
       "      <th>std</th>\n",
       "      <td>NaN</td>\n",
       "      <td>7.108227</td>\n",
       "      <td>29.092758</td>\n",
       "      <td>23.058458</td>\n",
       "      <td>0.903102</td>\n",
       "    </tr>\n",
       "  </tbody>\n",
       "</table>\n",
       "</div>"
      ],
      "text/plain": [
       "                             date   product_id        sales        price  \\\n",
       "count                        1000  1000.000000  1000.000000  1000.000000   \n",
       "mean   2024-06-28 02:22:33.600000    12.694000    51.786000    56.283990   \n",
       "min           2024-01-01 00:00:00     1.000000     1.000000    21.650000   \n",
       "25%           2024-03-28 00:00:00     7.000000    27.000000    34.670000   \n",
       "50%           2024-06-25 00:00:00    12.000000    53.000000    52.260000   \n",
       "75%           2024-09-29 00:00:00    19.000000    76.000000    76.650000   \n",
       "max           2024-12-30 00:00:00    25.000000   100.000000    97.590000   \n",
       "std                           NaN     7.108227    29.092758    23.058458   \n",
       "\n",
       "       temperature  \n",
       "count  1000.000000  \n",
       "mean     14.819300  \n",
       "min      12.600000  \n",
       "25%      14.200000  \n",
       "50%      14.800000  \n",
       "75%      15.400000  \n",
       "max      17.700000  \n",
       "std       0.903102  "
      ]
     },
     "execution_count": 166,
     "metadata": {},
     "output_type": "execute_result"
    }
   ],
   "source": [
    "df_final.describe()"
   ]
  },
  {
   "cell_type": "code",
   "execution_count": 167,
   "id": "e77848a1",
   "metadata": {},
   "outputs": [
    {
     "data": {
      "application/vnd.microsoft.datawrangler.viewer.v0+json": {
       "columns": [
        {
         "name": "index",
         "rawType": "object",
         "type": "string"
        },
        {
         "name": "0",
         "rawType": "object",
         "type": "unknown"
        }
       ],
       "ref": "61d41fd1-a573-4feb-a4a0-c6a0fae46044",
       "rows": [
        [
         "date",
         "datetime64[ns]"
        ],
        [
         "product_id",
         "int64"
        ],
        [
         "sales",
         "int64"
        ],
        [
         "price",
         "float64"
        ],
        [
         "category",
         "object"
        ],
        [
         "temperature",
         "float64"
        ]
       ],
       "shape": {
        "columns": 1,
        "rows": 6
       }
      },
      "text/plain": [
       "date           datetime64[ns]\n",
       "product_id              int64\n",
       "sales                   int64\n",
       "price                 float64\n",
       "category               object\n",
       "temperature           float64\n",
       "dtype: object"
      ]
     },
     "execution_count": 167,
     "metadata": {},
     "output_type": "execute_result"
    }
   ],
   "source": [
    "# Tipos de las variables\n",
    "df_final.dtypes"
   ]
  },
  {
   "cell_type": "code",
   "execution_count": 168,
   "id": "54428f7c",
   "metadata": {},
   "outputs": [
    {
     "data": {
      "application/vnd.microsoft.datawrangler.viewer.v0+json": {
       "columns": [
        {
         "name": "index",
         "rawType": "object",
         "type": "string"
        },
        {
         "name": "0",
         "rawType": "int64",
         "type": "integer"
        }
       ],
       "ref": "8d1d48ea-31fd-45a6-8bd7-4b949baf6523",
       "rows": [
        [
         "date",
         "0"
        ],
        [
         "product_id",
         "0"
        ],
        [
         "sales",
         "0"
        ],
        [
         "price",
         "0"
        ],
        [
         "category",
         "0"
        ],
        [
         "temperature",
         "0"
        ]
       ],
       "shape": {
        "columns": 1,
        "rows": 6
       }
      },
      "text/plain": [
       "date           0\n",
       "product_id     0\n",
       "sales          0\n",
       "price          0\n",
       "category       0\n",
       "temperature    0\n",
       "dtype: int64"
      ]
     },
     "execution_count": 168,
     "metadata": {},
     "output_type": "execute_result"
    }
   ],
   "source": [
    "# examinando valores nulos\n",
    "df_final.isnull().sum()"
   ]
  },
  {
   "cell_type": "code",
   "execution_count": 169,
   "id": "c64c3205",
   "metadata": {},
   "outputs": [
    {
     "data": {
      "image/png": "[encoded data removed]",
      "text/plain": [
       "<Figure size 640x480 with 1 Axes>"
      ]
     },
     "metadata": {},
     "output_type": "display_data"
    },
    {
     "data": {
      "image/png": "[encoded data removed]",
      "text/plain": [
       "<Figure size 640x480 with 1 Axes>"
      ]
     },
     "metadata": {},
     "output_type": "display_data"
    }
   ],
   "source": [
    "# Examinando outliers\n",
    "sns.boxplot(data=df_final, x=\"temperature\")\n",
    "plt.title(\"Outliers en temperatura\")\n",
    "plt.show()\n",
    "\n",
    "sns.boxplot(data=df_final, x=\"sales\")\n",
    "plt.title(\"Outliers en ventas\")\n",
    "plt.show()"
   ]
  },
  {
   "cell_type": "code",
   "execution_count": 170,
   "id": "4d2f1cfb",
   "metadata": {},
   "outputs": [
    {
     "name": "stdout",
     "output_type": "stream",
     "text": [
      "          date  temperature\n",
      "200 2024-01-29         17.7\n",
      "283 2024-01-29         17.7\n",
      "346 2024-01-29         17.7\n",
      "356 2024-01-29         17.7\n",
      "419 2024-01-29         17.7\n",
      "912 2024-01-29         17.7\n"
     ]
    }
   ],
   "source": [
    "# Outliers para temperature\n",
    "Q1 = df_final[\"temperature\"].quantile(0.25)\n",
    "Q3 = df_final[\"temperature\"].quantile(0.75)\n",
    "IQR = Q3 - Q1\n",
    "\n",
    "# Límites para detectar outliers\n",
    "lower_bound = Q1 - 1.5 * IQR\n",
    "upper_bound = Q3 + 1.5 * IQR\n",
    "\n",
    "# Filtrar los outliers\n",
    "outliers_temp = df_final[\n",
    "    (df_final[\"temperature\"] < lower_bound) |\n",
    "    (df_final[\"temperature\"] > upper_bound)\n",
    "]\n",
    "\n",
    "print(outliers_temp[[\"date\", \"temperature\"]])"
   ]
  },
  {
   "cell_type": "markdown",
   "id": "7ec5949e",
   "metadata": {},
   "source": [
    "Se identificaron valores atípicos en la columna temperature (17.7 °C repetido 6 veces).\n",
    "Dado que este valor es realista para la ubicación y no representa un error de medición, se mantuvo en el dataset sin modificaciones."
   ]
  },
  {
   "cell_type": "markdown",
   "id": "8e458f61",
   "metadata": {},
   "source": [
    "# Comparando modelos"
   ]
  },
  {
   "cell_type": "code",
   "execution_count": 171,
   "id": "9156aa1a",
   "metadata": {},
   "outputs": [],
   "source": [
    "# === Procesar columna date ===\n",
    "df_modelo = df_final.copy()\n",
    "\n",
    "df_modelo[\"day_of_week\"] = df_final[\"date\"].dt.dayofweek\n",
    "df_modelo[\"month\"] = df_final[\"date\"].dt.month\n",
    "df_modelo[\"day_of_year\"] = df_final[\"date\"].dt.dayofyear"
   ]
  },
  {
   "cell_type": "code",
   "execution_count": 172,
   "id": "4f5cea1e",
   "metadata": {},
   "outputs": [],
   "source": [
    "# === Codificar category ===\n",
    "encoder = OneHotEncoder(sparse_output=False, handle_unknown=\"ignore\")\n",
    "category_encoded = encoder.fit_transform(df_modelo[[\"category\"]])\n",
    "category_df = pd.DataFrame(category_encoded, columns=encoder.get_feature_names_out([\"category\"]))\n",
    "df_modelo = pd.concat([df_modelo, category_df], axis=1)\n",
    "\n",
    "# === Variables y target ===\n",
    "feature_cols = [\"temperature\", \"price\", \"day_of_week\", \"month\", \"day_of_year\"] + list(category_df.columns)\n",
    "X = df_modelo[feature_cols]\n",
    "y = df_modelo[\"sales\"]"
   ]
  },
  {
   "cell_type": "code",
   "execution_count": 173,
   "id": "5ac7a69b",
   "metadata": {},
   "outputs": [
    {
     "name": "stdout",
     "output_type": "stream",
     "text": [
      "\n",
      "=== Comparativa de Modelos ===\n",
      "             Modelo        MAE       RMSE        R²\n",
      "0  Regresión Lineal  24.982101  29.719818 -0.057547\n",
      "1           XGBoost  26.288607  32.228179 -0.243595\n",
      "Usando Regresión Lineal para predicciones finales.\n"
     ]
    }
   ],
   "source": [
    "# === Dividir en entrenamiento y prueba ===\n",
    "X_train, X_test, y_train, y_test = train_test_split(\n",
    "    X, y, test_size=0.2, random_state=42\n",
    ")\n",
    "\n",
    "# ========= Modelo 1: Regresión Lineal =========\n",
    "lr_model = LinearRegression()\n",
    "lr_model.fit(X_train, y_train)\n",
    "y_pred_lr = lr_model.predict(X_test)\n",
    "\n",
    "# Métricas Regresión Lineal\n",
    "mae_lr = mean_absolute_error(y_test, y_pred_lr)\n",
    "rmse_lr = np.sqrt(mean_squared_error(y_test, y_pred_lr))\n",
    "r2_lr = r2_score(y_test, y_pred_lr)\n",
    "\n",
    "# ========= Modelo 2: XGBoost =========\n",
    "xgb_model = XGBRegressor(\n",
    "    n_estimators=100,\n",
    "    learning_rate=0.1,\n",
    "    random_state=42\n",
    ")\n",
    "xgb_model.fit(X_train, y_train)\n",
    "y_pred_xgb = xgb_model.predict(X_test)\n",
    "\n",
    "# Métricas XGBoost\n",
    "mae_xgb = mean_absolute_error(y_test, y_pred_xgb)\n",
    "rmse_xgb = np.sqrt(mean_squared_error(y_test, y_pred_xgb))\n",
    "r2_xgb = r2_score(y_test, y_pred_xgb)\n",
    "\n",
    "# ========= Comparativa =========\n",
    "metrics_df = pd.DataFrame({\n",
    "    \"Modelo\": [\"Regresión Lineal\", \"XGBoost\"],\n",
    "    \"MAE\": [mae_lr, mae_xgb],\n",
    "    \"RMSE\": [rmse_lr, rmse_xgb],\n",
    "    \"R²\": [r2_lr, r2_xgb]\n",
    "})\n",
    "\n",
    "print(\"\\n=== Comparativa de Modelos ===\")\n",
    "print(metrics_df)\n",
    "\n",
    "# ========= Seleccionar mejor modelo =========\n",
    "if mae_xgb < mae_lr:\n",
    "    print(\"Usando XGBoost para predicciones finales.\")\n",
    "    df_final[\"sales_prediction\"] = xgb_model.predict(X)\n",
    "else:\n",
    "    print(\"Usando Regresión Lineal para predicciones finales.\")\n",
    "    df_final[\"sales_prediction\"] = lr_model.predict(X)\n"
   ]
  },
  {
   "cell_type": "code",
   "execution_count": 174,
   "id": "a12e20b1",
   "metadata": {},
   "outputs": [
    {
     "name": "stdout",
     "output_type": "stream",
     "text": [
      "Modelos exportados correctamente\n"
     ]
    }
   ],
   "source": [
    "dump(xgb_model, \"./models/xgb_model.joblib\")\n",
    "dump(lr_model, \"./models/lr_model.joblib\")\n",
    "\n",
    "print(\"Modelos exportados correctamente\")"
   ]
  },
  {
   "cell_type": "code",
   "execution_count": 175,
   "id": "f0c382c1",
   "metadata": {},
   "outputs": [
    {
     "data": {
      "application/vnd.microsoft.datawrangler.viewer.v0+json": {
       "columns": [
        {
         "name": "index",
         "rawType": "int64",
         "type": "integer"
        },
        {
         "name": "date",
         "rawType": "datetime64[ns]",
         "type": "datetime"
        },
        {
         "name": "product_id",
         "rawType": "int64",
         "type": "integer"
        },
        {
         "name": "sales",
         "rawType": "int64",
         "type": "integer"
        },
        {
         "name": "price",
         "rawType": "float64",
         "type": "float"
        },
        {
         "name": "category",
         "rawType": "object",
         "type": "string"
        },
        {
         "name": "temperature",
         "rawType": "float64",
         "type": "float"
        },
        {
         "name": "sales_prediction",
         "rawType": "float64",
         "type": "float"
        }
       ],
       "ref": "09fe80ad-2e2a-4c89-bdd7-911b68dd2ef2",
       "rows": [
        [
         "0",
         "2024-07-14 00:00:00",
         "1",
         "9",
         "49.96",
         "Mochilas impermeables",
         "14.2",
         "49.10762460761117"
        ],
        [
         "1",
         "2024-02-11 00:00:00",
         "2",
         "62",
         "96.06",
         "Overoles de lluvia",
         "15.6",
         "48.549167431412506"
        ],
        [
         "2",
         "2024-06-16 00:00:00",
         "3",
         "17",
         "78.56",
         "Sombreros impermeables",
         "13.6",
         "52.53284757459154"
        ],
        [
         "3",
         "2024-03-13 00:00:00",
         "4",
         "5",
         "67.89",
         "Conjuntos de lluvia infantiles",
         "15.8",
         "48.10243969704277"
        ],
        [
         "4",
         "2024-09-11 00:00:00",
         "3",
         "64",
         "78.56",
         "Sombreros impermeables",
         "14.6",
         "56.35886165374818"
        ],
        [
         "5",
         "2024-07-27 00:00:00",
         "5",
         "18",
         "32.48",
         "Guantes resistentes al agua",
         "14.2",
         "46.38921208329671"
        ],
        [
         "6",
         "2024-09-01 00:00:00",
         "6",
         "23",
         "32.48",
         "Ponchos de lluvia",
         "14.4",
         "56.98313917716148"
        ],
        [
         "7",
         "2024-03-12 00:00:00",
         "7",
         "49",
         "24.65",
         "Impermeables largos",
         "15.1",
         "48.40955791283662"
        ],
        [
         "8",
         "2024-10-03 00:00:00",
         "7",
         "77",
         "24.65",
         "Impermeables largos",
         "14.3",
         "47.86546413688675"
        ],
        [
         "9",
         "2024-05-25 00:00:00",
         "8",
         "75",
         "89.29",
         "Paraguas pequeños",
         "15.4",
         "53.380509472183334"
        ],
        [
         "10",
         "2024-06-01 00:00:00",
         "9",
         "25",
         "68.09",
         "Pantalones impermeables",
         "15.3",
         "61.24624679002493"
        ],
        [
         "11",
         "2024-01-14 00:00:00",
         "10",
         "16",
         "76.65",
         "Botas de lluvia",
         "15.2",
         "45.87898123924039"
        ],
        [
         "12",
         "2024-09-19 00:00:00",
         "7",
         "1",
         "24.65",
         "Impermeables largos",
         "15.2",
         "48.290586279733546"
        ],
        [
         "13",
         "2024-02-20 00:00:00",
         "11",
         "70",
         "21.65",
         "Paraguas plegables",
         "15.4",
         "53.20342978679832"
        ],
        [
         "14",
         "2024-10-07 00:00:00",
         "7",
         "28",
         "24.65",
         "Impermeables largos",
         "14.1",
         "46.807343695230614"
        ],
        [
         "15",
         "2024-05-14 00:00:00",
         "12",
         "94",
         "97.59",
         "Zapatos impermeables urbanos",
         "15.3",
         "55.78411023914603"
        ],
        [
         "16",
         "2024-11-22 00:00:00",
         "7",
         "57",
         "24.65",
         "Impermeables largos",
         "14.0",
         "44.62047608973998"
        ],
        [
         "17",
         "2024-09-12 00:00:00",
         "13",
         "63",
         "86.6",
         "Paraguas automáticos",
         "14.8",
         "50.2052079706196"
        ],
        [
         "18",
         "2024-01-16 00:00:00",
         "14",
         "21",
         "36.99",
         "Leggings repelentes",
         "13.7",
         "44.40057531123554"
        ],
        [
         "19",
         "2024-11-15 00:00:00",
         "15",
         "63",
         "34.55",
         "Fundas para mochilas",
         "14.4",
         "46.997869293262056"
        ],
        [
         "20",
         "2024-10-06 00:00:00",
         "16",
         "76",
         "34.67",
         "Bolsos repelentes",
         "14.3",
         "48.251786926384625"
        ],
        [
         "21",
         "2024-01-18 00:00:00",
         "8",
         "83",
         "89.29",
         "Paraguas pequeños",
         "14.8",
         "52.00037725542593"
        ],
        [
         "22",
         "2024-12-25 00:00:00",
         "5",
         "73",
         "32.48",
         "Guantes resistentes al agua",
         "14.8",
         "48.87054333159166"
        ],
        [
         "23",
         "2024-09-04 00:00:00",
         "5",
         "75",
         "32.48",
         "Guantes resistentes al agua",
         "14.8",
         "51.152950468574346"
        ],
        [
         "24",
         "2024-03-29 00:00:00",
         "7",
         "76",
         "24.65",
         "Impermeables largos",
         "16.4",
         "50.00853355964536"
        ],
        [
         "25",
         "2024-12-06 00:00:00",
         "15",
         "93",
         "34.55",
         "Fundas para mochilas",
         "14.4",
         "48.30331712488737"
        ],
        [
         "26",
         "2024-08-24 00:00:00",
         "8",
         "33",
         "89.29",
         "Paraguas pequeños",
         "14.5",
         "51.13860396983101"
        ],
        [
         "27",
         "2024-03-02 00:00:00",
         "17",
         "25",
         "44.34",
         "Abrigos con capucha",
         "16.0",
         "50.53233359633729"
        ],
        [
         "28",
         "2024-06-26 00:00:00",
         "9",
         "74",
         "68.09",
         "Pantalones impermeables",
         "13.8",
         "53.75269947612579"
        ],
        [
         "29",
         "2024-08-23 00:00:00",
         "13",
         "59",
         "86.6",
         "Paraguas automáticos",
         "14.0",
         "46.43807537896971"
        ],
        [
         "30",
         "2024-04-14 00:00:00",
         "2",
         "85",
         "96.06",
         "Overoles de lluvia",
         "17.0",
         "52.57295355949023"
        ],
        [
         "31",
         "2024-12-08 00:00:00",
         "14",
         "77",
         "36.99",
         "Leggings repelentes",
         "16.4",
         "54.41556633255465"
        ],
        [
         "32",
         "2024-04-18 00:00:00",
         "18",
         "20",
         "61.98",
         "Cubrezapatos de silicona",
         "15.6",
         "58.780690393833204"
        ],
        [
         "33",
         "2024-12-15 00:00:00",
         "3",
         "66",
         "78.56",
         "Sombreros impermeables",
         "13.6",
         "53.28124812793361"
        ],
        [
         "34",
         "2024-02-11 00:00:00",
         "19",
         "16",
         "54.56",
         "Fundas para cochecitos",
         "15.6",
         "53.95837360323889"
        ],
        [
         "35",
         "2024-03-26 00:00:00",
         "20",
         "78",
         "43.3",
         "Bufandas sintéticas",
         "14.5",
         "47.47021744241464"
        ],
        [
         "36",
         "2024-06-17 00:00:00",
         "8",
         "40",
         "89.29",
         "Paraguas pequeños",
         "13.6",
         "49.24949694567416"
        ],
        [
         "37",
         "2024-06-13 00:00:00",
         "3",
         "20",
         "78.56",
         "Sombreros impermeables",
         "14.9",
         "56.72043923585892"
        ],
        [
         "38",
         "2024-06-18 00:00:00",
         "11",
         "77",
         "21.65",
         "Paraguas plegables",
         "14.1",
         "50.21872263195416"
        ],
        [
         "39",
         "2024-05-26 00:00:00",
         "13",
         "60",
         "86.6",
         "Paraguas automáticos",
         "15.0",
         "48.69814449942813"
        ],
        [
         "40",
         "2024-12-26 00:00:00",
         "21",
         "64",
         "68.95",
         "Botas infantiles",
         "14.9",
         "55.143416954653404"
        ],
        [
         "41",
         "2024-01-30 00:00:00",
         "3",
         "32",
         "78.56",
         "Sombreros impermeables",
         "17.0",
         "60.112104915443794"
        ],
        [
         "42",
         "2024-03-27 00:00:00",
         "13",
         "34",
         "86.6",
         "Paraguas automáticos",
         "14.5",
         "46.9499579493933"
        ],
        [
         "43",
         "2024-02-05 00:00:00",
         "7",
         "53",
         "24.65",
         "Impermeables largos",
         "15.3",
         "49.592795930989425"
        ],
        [
         "44",
         "2024-03-03 00:00:00",
         "1",
         "42",
         "49.96",
         "Mochilas impermeables",
         "15.4",
         "53.57272495166634"
        ],
        [
         "45",
         "2024-03-16 00:00:00",
         "9",
         "53",
         "68.09",
         "Pantalones impermeables",
         "16.2",
         "61.71708068327478"
        ],
        [
         "46",
         "2024-01-21 00:00:00",
         "22",
         "81",
         "31.16",
         "Gorras repelentes",
         "14.2",
         "52.86358279891289"
        ],
        [
         "47",
         "2024-05-11 00:00:00",
         "11",
         "42",
         "21.65",
         "Paraguas plegables",
         "16.6",
         "58.291813107698864"
        ],
        [
         "48",
         "2024-05-03 00:00:00",
         "11",
         "67",
         "21.65",
         "Paraguas plegables",
         "15.9",
         "57.278857373902405"
        ],
        [
         "49",
         "2024-10-24 00:00:00",
         "9",
         "92",
         "68.09",
         "Pantalones impermeables",
         "14.2",
         "55.573268058544166"
        ]
       ],
       "shape": {
        "columns": 7,
        "rows": 1000
       }
      },
      "text/html": [
       "<div>\n",
       "<style scoped>\n",
       "    .dataframe tbody tr th:only-of-type {\n",
       "        vertical-align: middle;\n",
       "    }\n",
       "\n",
       "    .dataframe tbody tr th {\n",
       "        vertical-align: top;\n",
       "    }\n",
       "\n",
       "    .dataframe thead th {\n",
       "        text-align: right;\n",
       "    }\n",
       "</style>\n",
       "<table border=\"1\" class=\"dataframe\">\n",
       "  <thead>\n",
       "    <tr style=\"text-align: right;\">\n",
       "      <th></th>\n",
       "      <th>date</th>\n",
       "      <th>product_id</th>\n",
       "      <th>sales</th>\n",
       "      <th>price</th>\n",
       "      <th>category</th>\n",
       "      <th>temperature</th>\n",
       "      <th>sales_prediction</th>\n",
       "    </tr>\n",
       "  </thead>\n",
       "  <tbody>\n",
       "    <tr>\n",
       "      <th>0</th>\n",
       "      <td>2024-07-14</td>\n",
       "      <td>1</td>\n",
       "      <td>9</td>\n",
       "      <td>49.96</td>\n",
       "      <td>Mochilas impermeables</td>\n",
       "      <td>14.2</td>\n",
       "      <td>49.107625</td>\n",
       "    </tr>\n",
       "    <tr>\n",
       "      <th>1</th>\n",
       "      <td>2024-02-11</td>\n",
       "      <td>2</td>\n",
       "      <td>62</td>\n",
       "      <td>96.06</td>\n",
       "      <td>Overoles de lluvia</td>\n",
       "      <td>15.6</td>\n",
       "      <td>48.549167</td>\n",
       "    </tr>\n",
       "    <tr>\n",
       "      <th>2</th>\n",
       "      <td>2024-06-16</td>\n",
       "      <td>3</td>\n",
       "      <td>17</td>\n",
       "      <td>78.56</td>\n",
       "      <td>Sombreros impermeables</td>\n",
       "      <td>13.6</td>\n",
       "      <td>52.532848</td>\n",
       "    </tr>\n",
       "    <tr>\n",
       "      <th>3</th>\n",
       "      <td>2024-03-13</td>\n",
       "      <td>4</td>\n",
       "      <td>5</td>\n",
       "      <td>67.89</td>\n",
       "      <td>Conjuntos de lluvia infantiles</td>\n",
       "      <td>15.8</td>\n",
       "      <td>48.102440</td>\n",
       "    </tr>\n",
       "    <tr>\n",
       "      <th>4</th>\n",
       "      <td>2024-09-11</td>\n",
       "      <td>3</td>\n",
       "      <td>64</td>\n",
       "      <td>78.56</td>\n",
       "      <td>Sombreros impermeables</td>\n",
       "      <td>14.6</td>\n",
       "      <td>56.358862</td>\n",
       "    </tr>\n",
       "    <tr>\n",
       "      <th>...</th>\n",
       "      <td>...</td>\n",
       "      <td>...</td>\n",
       "      <td>...</td>\n",
       "      <td>...</td>\n",
       "      <td>...</td>\n",
       "      <td>...</td>\n",
       "      <td>...</td>\n",
       "    </tr>\n",
       "    <tr>\n",
       "      <th>995</th>\n",
       "      <td>2024-11-28</td>\n",
       "      <td>6</td>\n",
       "      <td>65</td>\n",
       "      <td>32.48</td>\n",
       "      <td>Ponchos de lluvia</td>\n",
       "      <td>14.3</td>\n",
       "      <td>53.513378</td>\n",
       "    </tr>\n",
       "    <tr>\n",
       "      <th>996</th>\n",
       "      <td>2024-12-23</td>\n",
       "      <td>1</td>\n",
       "      <td>27</td>\n",
       "      <td>49.96</td>\n",
       "      <td>Mochilas impermeables</td>\n",
       "      <td>14.1</td>\n",
       "      <td>48.191908</td>\n",
       "    </tr>\n",
       "    <tr>\n",
       "      <th>997</th>\n",
       "      <td>2024-05-03</td>\n",
       "      <td>13</td>\n",
       "      <td>6</td>\n",
       "      <td>86.60</td>\n",
       "      <td>Paraguas automáticos</td>\n",
       "      <td>15.9</td>\n",
       "      <td>54.243372</td>\n",
       "    </tr>\n",
       "    <tr>\n",
       "      <th>998</th>\n",
       "      <td>2024-07-08</td>\n",
       "      <td>8</td>\n",
       "      <td>73</td>\n",
       "      <td>89.29</td>\n",
       "      <td>Paraguas pequeños</td>\n",
       "      <td>13.4</td>\n",
       "      <td>49.973588</td>\n",
       "    </tr>\n",
       "    <tr>\n",
       "      <th>999</th>\n",
       "      <td>2024-12-03</td>\n",
       "      <td>13</td>\n",
       "      <td>50</td>\n",
       "      <td>86.60</td>\n",
       "      <td>Paraguas automáticos</td>\n",
       "      <td>14.5</td>\n",
       "      <td>50.865424</td>\n",
       "    </tr>\n",
       "  </tbody>\n",
       "</table>\n",
       "<p>1000 rows × 7 columns</p>\n",
       "</div>"
      ],
      "text/plain": [
       "          date  product_id  sales  price                        category  \\\n",
       "0   2024-07-14           1      9  49.96           Mochilas impermeables   \n",
       "1   2024-02-11           2     62  96.06              Overoles de lluvia   \n",
       "2   2024-06-16           3     17  78.56          Sombreros impermeables   \n",
       "3   2024-03-13           4      5  67.89  Conjuntos de lluvia infantiles   \n",
       "4   2024-09-11           3     64  78.56          Sombreros impermeables   \n",
       "..         ...         ...    ...    ...                             ...   \n",
       "995 2024-11-28           6     65  32.48               Ponchos de lluvia   \n",
       "996 2024-12-23           1     27  49.96           Mochilas impermeables   \n",
       "997 2024-05-03          13      6  86.60            Paraguas automáticos   \n",
       "998 2024-07-08           8     73  89.29               Paraguas pequeños   \n",
       "999 2024-12-03          13     50  86.60            Paraguas automáticos   \n",
       "\n",
       "     temperature  sales_prediction  \n",
       "0           14.2         49.107625  \n",
       "1           15.6         48.549167  \n",
       "2           13.6         52.532848  \n",
       "3           15.8         48.102440  \n",
       "4           14.6         56.358862  \n",
       "..           ...               ...  \n",
       "995         14.3         53.513378  \n",
       "996         14.1         48.191908  \n",
       "997         15.9         54.243372  \n",
       "998         13.4         49.973588  \n",
       "999         14.5         50.865424  \n",
       "\n",
       "[1000 rows x 7 columns]"
      ]
     },
     "execution_count": 175,
     "metadata": {},
     "output_type": "execute_result"
    }
   ],
   "source": [
    "df_final"
   ]
  },
  {
   "cell_type": "markdown",
   "id": "b46b060d",
   "metadata": {},
   "source": [
    "# Conectando a la BD"
   ]
  },
  {
   "cell_type": "code",
   "execution_count": 176,
   "id": "e9adbe22",
   "metadata": {},
   "outputs": [
    {
     "name": "stdout",
     "output_type": "stream",
     "text": [
      "Datos subidos correctamente a PostgreSQL en la tabla 'sales_predictions'\n"
     ]
    }
   ],
   "source": [
    "\n",
    "# Cargar variables de entorno desde el archivo .env\n",
    "load_dotenv()\n",
    "\n",
    "# Leer credenciales\n",
    "USER = os.getenv(\"PG_USER\")\n",
    "PASSWORD = os.getenv(\"PG_PASSWORD\")\n",
    "HOST = os.getenv(\"PG_HOST\")\n",
    "PORT = os.getenv(\"PG_PORT\")\n",
    "DB = os.getenv(\"PG_DB\")\n",
    "\n",
    "# Crear conexión a PostgreSQL\n",
    "engine = create_engine(f\"postgresql+psycopg2://{USER}:{PASSWORD}@{HOST}:{PORT}/{DB}\")\n",
    "\n",
    "# Subir datos a la tabla sales_predictions\n",
    "df_final.to_sql(\"sales_predictions\", engine, if_exists=\"replace\", index=False)\n",
    "\n",
    "print(\"Datos subidos correctamente a PostgreSQL en la tabla 'sales_predictions'\")\n"
   ]
  },
  {
   "cell_type": "code",
   "execution_count": 177,
   "id": "215981ba",
   "metadata": {},
   "outputs": [
    {
     "name": "stdout",
     "output_type": "stream",
     "text": [
      "Estructura de la tabla ajustada\n"
     ]
    }
   ],
   "source": [
    "# Ajustar estructura de la tabla\n",
    "with engine.connect() as conn:\n",
    "    conn.execute(text(\"\"\"\n",
    "        -- Agregar columna id si no existe\n",
    "        DO $$\n",
    "        BEGIN\n",
    "            IF NOT EXISTS (\n",
    "                SELECT 1\n",
    "                FROM information_schema.columns\n",
    "                WHERE table_name = 'sales_predictions'\n",
    "                AND column_name = 'id'\n",
    "            ) THEN\n",
    "                ALTER TABLE sales_predictions ADD COLUMN id SERIAL PRIMARY KEY;\n",
    "            END IF;\n",
    "        END$$;\n",
    "\n",
    "        -- Asegurar tipos de datos correctos\n",
    "        ALTER TABLE sales_predictions\n",
    "        ALTER COLUMN date TYPE DATE USING date::DATE,\n",
    "        ALTER COLUMN product_id TYPE INT USING product_id::INTEGER,\n",
    "        ALTER COLUMN sales TYPE INT USING sales::INTEGER,\n",
    "        ALTER COLUMN price TYPE DOUBLE PRECISION USING price::DOUBLE PRECISION,\n",
    "        ALTER COLUMN category TYPE VARCHAR(50),\n",
    "        ALTER COLUMN temperature TYPE DOUBLE PRECISION USING temperature::DOUBLE PRECISION,\n",
    "        ALTER COLUMN sales_prediction TYPE DOUBLE PRECISION USING sales_prediction::DOUBLE PRECISION;\n",
    "    \"\"\"))\n",
    "    conn.commit()\n",
    "\n",
    "print(\"Estructura de la tabla ajustada\")"
   ]
  },
  {
   "cell_type": "code",
   "execution_count": 178,
   "id": "cbb68ade",
   "metadata": {},
   "outputs": [],
   "source": [
    "SP_USER = os.getenv(\"SUPABASE_USER\")        \n",
    "SP_PASSWORD = os.getenv(\"SUPABASE_PASSWORD\")\n",
    "SP_HOST = os.getenv(\"SUPABASE_HOST\")         \n",
    "SP_PORT = os.getenv(\"SUPABASE_PORT\")         \n",
    "SP_DB = os.getenv(\"SUPABASE_DB\")    \n",
    "\n",
    "# Cargar variables de entorno\n",
    "load_dotenv()\n",
    "\n",
    "# Conexión Supabase\n",
    "# Crear conexión a PostgreSQL en Supabase usando IPv4\n",
    "engine_sp = create_engine(\n",
    "    f\"postgresql+psycopg2://{SP_USER}:{SP_PASSWORD}@{SP_HOST}:{SP_PORT}/{SP_DB}\"\n",
    ")"
   ]
  },
  {
   "cell_type": "code",
   "execution_count": 179,
   "id": "72423259",
   "metadata": {},
   "outputs": [],
   "source": [
    "# Crear la tabla si no existe\n",
    "with engine_sp.connect() as conn:\n",
    "    conn.execute(text(\"\"\"\n",
    "        CREATE TABLE IF NOT EXISTS sales_predictions (\n",
    "            id SERIAL PRIMARY KEY,\n",
    "            date DATE,\n",
    "            product_id INT,\n",
    "            sales INT,\n",
    "            price DOUBLE PRECISION,\n",
    "            category VARCHAR(50),\n",
    "            temperature DOUBLE PRECISION,\n",
    "            sales_prediction DOUBLE PRECISION\n",
    "        );\n",
    "    \"\"\"))\n",
    "    conn.commit()"
   ]
  },
  {
   "cell_type": "code",
   "execution_count": 180,
   "id": "af5d2b9b",
   "metadata": {},
   "outputs": [
    {
     "name": "stdout",
     "output_type": "stream",
     "text": [
      "Datos subidos a Supabase exitosamente.\n"
     ]
    }
   ],
   "source": [
    "# Subir datos\n",
    "with engine.begin() as conn:\n",
    "    df_final.to_sql(\"sales_predictions\", engine, if_exists=\"replace\", index=False, method=\"multi\")\n",
    "\n",
    "print(\"Datos subidos a Supabase exitosamente.\")"
   ]
  },
  {
   "cell_type": "code",
   "execution_count": 181,
   "id": "fff81dda",
   "metadata": {},
   "outputs": [],
   "source": [
    "# Cargando variables de entorno\n",
    "SP_USER = os.getenv(\"SUPABASE_USER\")        \n",
    "SP_PASSWORD = os.getenv(\"SUPABASE_PASSWORD\")\n",
    "SP_HOST = os.getenv(\"SUPABASE_HOST\")         \n",
    "SP_PORT = os.getenv(\"SUPABASE_PORT\")         \n",
    "SP_DB = os.getenv(\"SUPABASE_DB\")             "
   ]
  },
  {
   "cell_type": "code",
   "execution_count": 182,
   "id": "a117e40f",
   "metadata": {},
   "outputs": [],
   "source": [
    "# Conectando con Supabase\n",
    "conn = psycopg2.connect(\n",
    "    host=SP_HOST,\n",
    "    dbname=SP_DB,\n",
    "    user=SP_USER,\n",
    "    password=SP_PASSWORD,\n",
    "    port=SP_PORT,\n",
    "    sslmode='require'\n",
    ")\n",
    "cur = conn.cursor()"
   ]
  },
  {
   "cell_type": "code",
   "execution_count": 183,
   "id": "c919fc40",
   "metadata": {},
   "outputs": [
    {
     "name": "stdout",
     "output_type": "stream",
     "text": [
      "Datos insertados correctamente en Supabase en la tabla 'sales_predictions'.\n"
     ]
    }
   ],
   "source": [
    "# Cargando datos a Supabase\n",
    "\n",
    "tuplas = [tuple(x) for x in df_final.to_numpy()]\n",
    "cols = ','.join(df_final.columns)\n",
    "\n",
    "query = f\"INSERT INTO sales_predictions ({cols}) VALUES %s\"\n",
    "psycopg2.extras.execute_values(cur, query, tuplas)\n",
    "conn.commit()\n",
    "\n",
    "cur.close()\n",
    "conn.close()\n",
    "\n",
    "print(\"Datos insertados correctamente en Supabase en la tabla 'sales_predictions'.\")"
   ]
  },
  {
   "cell_type": "code",
   "execution_count": 184,
   "id": "9794e8a0",
   "metadata": {},
   "outputs": [],
   "source": [
    "# cargando el query para calcular el erro medio agrupado por categoria\n",
    "with open(\"./utils/queries.sql\", \"r\") as f:\n",
    "    query = f.read()\n",
    "\n",
    "df_error = pd.read_sql(query, engine)\n"
   ]
  },
  {
   "cell_type": "code",
   "execution_count": 185,
   "id": "112ec099",
   "metadata": {},
   "outputs": [
    {
     "data": {
      "application/vnd.microsoft.datawrangler.viewer.v0+json": {
       "columns": [
        {
         "name": "index",
         "rawType": "int64",
         "type": "integer"
        },
        {
         "name": "category",
         "rawType": "object",
         "type": "string"
        },
        {
         "name": "avg_error",
         "rawType": "float64",
         "type": "float"
        }
       ],
       "ref": "f9551531-c1d9-4007-a8c0-a758eeee8544",
       "rows": [
        [
         "0",
         "Chalecos repelentes al agua",
         "24.389282140961445"
        ],
        [
         "1",
         "Fundas para mochilas",
         "23.249352575631345"
        ],
        [
         "2",
         "Impermeables largos",
         "22.655396056939797"
        ],
        [
         "3",
         "Leggings repelentes",
         "27.212707483005005"
        ],
        [
         "4",
         "Botas infantiles",
         "22.35629970320735"
        ],
        [
         "5",
         "Paraguas automáticos",
         "22.308745872757314"
        ],
        [
         "6",
         "Bolsos repelentes",
         "22.855254957524387"
        ],
        [
         "7",
         "Fundas para cochecitos",
         "22.019407613015844"
        ],
        [
         "8",
         "Bufandas sintéticas",
         "26.145217071628952"
        ],
        [
         "9",
         "Abrigos con capucha",
         "25.076098250573015"
        ],
        [
         "10",
         "Pantalones impermeables",
         "21.406264593988336"
        ],
        [
         "11",
         "Sombreros impermeables",
         "26.522156919572154"
        ],
        [
         "12",
         "Paraguas pequeños",
         "27.829857739983705"
        ],
        [
         "13",
         "Conjuntos de lluvia infantiles",
         "23.222533712747676"
        ],
        [
         "14",
         "Overoles de lluvia",
         "26.71845178334606"
        ],
        [
         "15",
         "Capas para mascotas",
         "25.19878006213009"
        ],
        [
         "16",
         "Paraguas plegables",
         "21.209195761164562"
        ],
        [
         "17",
         "Chaquetas cortas impermeables",
         "26.592350626497353"
        ],
        [
         "18",
         "Cubrezapatos de silicona",
         "24.69399097514739"
        ],
        [
         "19",
         "Ponchos de lluvia",
         "28.697646299667948"
        ],
        [
         "20",
         "Botas de lluvia",
         "24.427460798746857"
        ],
        [
         "21",
         "Zapatos impermeables urbanos",
         "28.745146131457087"
        ],
        [
         "22",
         "Guantes resistentes al agua",
         "25.588901317031254"
        ],
        [
         "23",
         "Gorras repelentes",
         "28.90969572294337"
        ],
        [
         "24",
         "Mochilas impermeables",
         "25.800315484172057"
        ]
       ],
       "shape": {
        "columns": 2,
        "rows": 25
       }
      },
      "text/html": [
       "<div>\n",
       "<style scoped>\n",
       "    .dataframe tbody tr th:only-of-type {\n",
       "        vertical-align: middle;\n",
       "    }\n",
       "\n",
       "    .dataframe tbody tr th {\n",
       "        vertical-align: top;\n",
       "    }\n",
       "\n",
       "    .dataframe thead th {\n",
       "        text-align: right;\n",
       "    }\n",
       "</style>\n",
       "<table border=\"1\" class=\"dataframe\">\n",
       "  <thead>\n",
       "    <tr style=\"text-align: right;\">\n",
       "      <th></th>\n",
       "      <th>category</th>\n",
       "      <th>avg_error</th>\n",
       "    </tr>\n",
       "  </thead>\n",
       "  <tbody>\n",
       "    <tr>\n",
       "      <th>0</th>\n",
       "      <td>Chalecos repelentes al agua</td>\n",
       "      <td>24.389282</td>\n",
       "    </tr>\n",
       "    <tr>\n",
       "      <th>1</th>\n",
       "      <td>Fundas para mochilas</td>\n",
       "      <td>23.249353</td>\n",
       "    </tr>\n",
       "    <tr>\n",
       "      <th>2</th>\n",
       "      <td>Impermeables largos</td>\n",
       "      <td>22.655396</td>\n",
       "    </tr>\n",
       "    <tr>\n",
       "      <th>3</th>\n",
       "      <td>Leggings repelentes</td>\n",
       "      <td>27.212707</td>\n",
       "    </tr>\n",
       "    <tr>\n",
       "      <th>4</th>\n",
       "      <td>Botas infantiles</td>\n",
       "      <td>22.356300</td>\n",
       "    </tr>\n",
       "    <tr>\n",
       "      <th>5</th>\n",
       "      <td>Paraguas automáticos</td>\n",
       "      <td>22.308746</td>\n",
       "    </tr>\n",
       "    <tr>\n",
       "      <th>6</th>\n",
       "      <td>Bolsos repelentes</td>\n",
       "      <td>22.855255</td>\n",
       "    </tr>\n",
       "    <tr>\n",
       "      <th>7</th>\n",
       "      <td>Fundas para cochecitos</td>\n",
       "      <td>22.019408</td>\n",
       "    </tr>\n",
       "    <tr>\n",
       "      <th>8</th>\n",
       "      <td>Bufandas sintéticas</td>\n",
       "      <td>26.145217</td>\n",
       "    </tr>\n",
       "    <tr>\n",
       "      <th>9</th>\n",
       "      <td>Abrigos con capucha</td>\n",
       "      <td>25.076098</td>\n",
       "    </tr>\n",
       "    <tr>\n",
       "      <th>10</th>\n",
       "      <td>Pantalones impermeables</td>\n",
       "      <td>21.406265</td>\n",
       "    </tr>\n",
       "    <tr>\n",
       "      <th>11</th>\n",
       "      <td>Sombreros impermeables</td>\n",
       "      <td>26.522157</td>\n",
       "    </tr>\n",
       "    <tr>\n",
       "      <th>12</th>\n",
       "      <td>Paraguas pequeños</td>\n",
       "      <td>27.829858</td>\n",
       "    </tr>\n",
       "    <tr>\n",
       "      <th>13</th>\n",
       "      <td>Conjuntos de lluvia infantiles</td>\n",
       "      <td>23.222534</td>\n",
       "    </tr>\n",
       "    <tr>\n",
       "      <th>14</th>\n",
       "      <td>Overoles de lluvia</td>\n",
       "      <td>26.718452</td>\n",
       "    </tr>\n",
       "    <tr>\n",
       "      <th>15</th>\n",
       "      <td>Capas para mascotas</td>\n",
       "      <td>25.198780</td>\n",
       "    </tr>\n",
       "    <tr>\n",
       "      <th>16</th>\n",
       "      <td>Paraguas plegables</td>\n",
       "      <td>21.209196</td>\n",
       "    </tr>\n",
       "    <tr>\n",
       "      <th>17</th>\n",
       "      <td>Chaquetas cortas impermeables</td>\n",
       "      <td>26.592351</td>\n",
       "    </tr>\n",
       "    <tr>\n",
       "      <th>18</th>\n",
       "      <td>Cubrezapatos de silicona</td>\n",
       "      <td>24.693991</td>\n",
       "    </tr>\n",
       "    <tr>\n",
       "      <th>19</th>\n",
       "      <td>Ponchos de lluvia</td>\n",
       "      <td>28.697646</td>\n",
       "    </tr>\n",
       "    <tr>\n",
       "      <th>20</th>\n",
       "      <td>Botas de lluvia</td>\n",
       "      <td>24.427461</td>\n",
       "    </tr>\n",
       "    <tr>\n",
       "      <th>21</th>\n",
       "      <td>Zapatos impermeables urbanos</td>\n",
       "      <td>28.745146</td>\n",
       "    </tr>\n",
       "    <tr>\n",
       "      <th>22</th>\n",
       "      <td>Guantes resistentes al agua</td>\n",
       "      <td>25.588901</td>\n",
       "    </tr>\n",
       "    <tr>\n",
       "      <th>23</th>\n",
       "      <td>Gorras repelentes</td>\n",
       "      <td>28.909696</td>\n",
       "    </tr>\n",
       "    <tr>\n",
       "      <th>24</th>\n",
       "      <td>Mochilas impermeables</td>\n",
       "      <td>25.800315</td>\n",
       "    </tr>\n",
       "  </tbody>\n",
       "</table>\n",
       "</div>"
      ],
      "text/plain": [
       "                          category  avg_error\n",
       "0      Chalecos repelentes al agua  24.389282\n",
       "1             Fundas para mochilas  23.249353\n",
       "2              Impermeables largos  22.655396\n",
       "3              Leggings repelentes  27.212707\n",
       "4                 Botas infantiles  22.356300\n",
       "5             Paraguas automáticos  22.308746\n",
       "6                Bolsos repelentes  22.855255\n",
       "7           Fundas para cochecitos  22.019408\n",
       "8              Bufandas sintéticas  26.145217\n",
       "9              Abrigos con capucha  25.076098\n",
       "10         Pantalones impermeables  21.406265\n",
       "11          Sombreros impermeables  26.522157\n",
       "12               Paraguas pequeños  27.829858\n",
       "13  Conjuntos de lluvia infantiles  23.222534\n",
       "14              Overoles de lluvia  26.718452\n",
       "15             Capas para mascotas  25.198780\n",
       "16              Paraguas plegables  21.209196\n",
       "17   Chaquetas cortas impermeables  26.592351\n",
       "18        Cubrezapatos de silicona  24.693991\n",
       "19               Ponchos de lluvia  28.697646\n",
       "20                 Botas de lluvia  24.427461\n",
       "21    Zapatos impermeables urbanos  28.745146\n",
       "22     Guantes resistentes al agua  25.588901\n",
       "23               Gorras repelentes  28.909696\n",
       "24           Mochilas impermeables  25.800315"
      ]
     },
     "execution_count": 185,
     "metadata": {},
     "output_type": "execute_result"
    }
   ],
   "source": [
    "df_error"
   ]
  },
  {
   "cell_type": "code",
   "execution_count": null,
   "id": "d5f108b3",
   "metadata": {},
   "outputs": [],
   "source": []
  }
 ],
 "metadata": {
  "kernelspec": {
   "display_name": "venv",
   "language": "python",
   "name": "python3"
  },
  "language_info": {
   "codemirror_mode": {
    "name": "ipython",
    "version": 3
   },
   "file_extension": ".py",
   "mimetype": "text/x-python",
   "name": "python",
   "nbconvert_exporter": "python",
   "pygments_lexer": "ipython3",
   "version": "3.11.9"
  }
 },
 "nbformat": 4,
 "nbformat_minor": 5
}
